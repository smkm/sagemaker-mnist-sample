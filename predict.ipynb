{
 "cells": [
  {
   "cell_type": "code",
   "execution_count": 5,
   "id": "18c21a65",
   "metadata": {},
   "outputs": [],
   "source": [
    "\"\"\"用意したエンドポイントを用いて推論を行なう\"\"\"\n",
    "\n",
    "import boto3\n",
    "import json\n",
    "from tensorflow.keras import backend as K\n",
    "from keras.datasets import mnist\n",
    "\n",
    "(x_train, y_train), (x_test, y_test) = mnist.load_data()\n",
    "if K.image_data_format() == 'channels_first':\n",
    "    x_train = x_train.reshape(x_train.shape[0], 1, 28, 28)\n",
    "else:\n",
    "    x_train = x_train.reshape(x_train.shape[0], 28, 28, 1)\n",
    "x_train = x_train.astype('float32')\n",
    "x_train /= 255\n",
    "\n",
    "client = boto3.client(\"sagemaker-runtime\")\n",
    "res = client.invoke_endpoint(\n",
    "    EndpointName=\"mnist-endpoint\",\n",
    "    Body=json.dumps({\"inputs\": [ x_train[0].tolist()]}),\n",
    "    ContentType=\"application/json\",\n",
    "    Accept=\"applicatoin/json\",\n",
    ")\n",
    "result = json.loads(res['Body'].read())"
   ]
  },
  {
   "cell_type": "code",
   "execution_count": 6,
   "id": "7bee5294",
   "metadata": {},
   "outputs": [
    {
     "data": {
      "text/plain": [
       "{'outputs': [[1.31569811e-10,\n",
       "   4.00890077e-09,\n",
       "   7.53057269e-11,\n",
       "   0.0169722475,\n",
       "   1.24603617e-11,\n",
       "   0.983027697,\n",
       "   7.75427367e-09,\n",
       "   1.49165791e-10,\n",
       "   4.87038925e-08,\n",
       "   5.02105415e-08]]}"
      ]
     },
     "execution_count": 6,
     "metadata": {},
     "output_type": "execute_result"
    }
   ],
   "source": [
    "result"
   ]
  },
  {
   "cell_type": "code",
   "execution_count": null,
   "id": "524700ee",
   "metadata": {},
   "outputs": [],
   "source": []
  }
 ],
 "metadata": {
  "kernelspec": {
   "display_name": "conda_tensorflow_p36",
   "language": "python",
   "name": "conda_tensorflow_p36"
  },
  "language_info": {
   "codemirror_mode": {
    "name": "ipython",
    "version": 3
   },
   "file_extension": ".py",
   "mimetype": "text/x-python",
   "name": "python",
   "nbconvert_exporter": "python",
   "pygments_lexer": "ipython3",
   "version": "3.6.13"
  }
 },
 "nbformat": 4,
 "nbformat_minor": 5
}

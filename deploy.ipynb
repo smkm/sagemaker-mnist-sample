{
 "cells": [
  {
   "cell_type": "code",
   "execution_count": 1,
   "id": "e1d41cc8",
   "metadata": {},
   "outputs": [
    {
     "name": "stdout",
     "output_type": "stream",
     "text": [
      "WARNING:tensorflow:From /home/ec2-user/anaconda3/envs/tensorflow_p36/cpu/lib/python3.6/site-packages/tensorflow_core/__init__.py:1473: The name tf.estimator.inputs is deprecated. Please use tf.compat.v1.estimator.inputs instead.\n",
      "\n"
     ]
    }
   ],
   "source": [
    "\"\"\"h5形式のモデルをSavedModelへ変換し、SageMakerのエンドポイントへデプロイする\n",
    "\n",
    "ref: https://dev.classmethod.jp/articles/vpc-access-sagemaker-notebook/\n",
    "\"\"\"\n",
    "import boto3\n",
    "import json\n",
    "import os \n",
    " \n",
    "import sagemaker\n",
    "from sagemaker import get_execution_role\n",
    "from sagemaker.tensorflow.serving import Model\n",
    " \n",
    "import tensorflow as tf\n",
    "from tensorflow.keras import backend as K\n",
    "from tensorflow.keras.models import model_from_json, load_model\n",
    "from tensorflow.python.saved_model import builder\n",
    "from tensorflow.python.saved_model import tag_constants\n",
    "from tensorflow.python.saved_model.signature_def_utils import predict_signature_def\n",
    " \n",
    "# IAMロール定義取得\n",
    "role = get_execution_role()"
   ]
  },
  {
   "cell_type": "code",
   "execution_count": 3,
   "id": "e934967c",
   "metadata": {},
   "outputs": [
    {
     "name": "stdout",
     "output_type": "stream",
     "text": [
      "INFO:tensorflow:No assets to save.\n",
      "INFO:tensorflow:No assets to write.\n",
      "INFO:tensorflow:SavedModel written to: ./tf_model/mnist/1/saved_model.pb\n"
     ]
    }
   ],
   "source": [
    "# h5形式のモデル読み込み\n",
    "model = load_model('model.h5')\n",
    "\n",
    "# SavedModel形式への変換\n",
    "input_sig  = 'inputs'\n",
    "output_sig = 'score'\n",
    "signature = predict_signature_def(inputs={input_sig: model.input}, outputs={output_sig:model.output})\n",
    "model_version = '1'\n",
    "export_path   = './tf_model/mnist/' + model_version\n",
    "if not os.path.exists(export_path):\n",
    "    os.mkdir(export_path)\n",
    "\n",
    "with K.get_session() as sess:\n",
    "    builder = tf.saved_model.builder.SavedModelBuilder(export_path)\n",
    "    builder.add_meta_graph_and_variables(sess, [tf.saved_model.tag_constants.SERVING], signature_def_map={'serving_default': signature}, main_op=tf.tables_initializer())\n",
    "    builder.save()"
   ]
  },
  {
   "cell_type": "code",
   "execution_count": 4,
   "id": "301205f9",
   "metadata": {},
   "outputs": [
    {
     "name": "stdout",
     "output_type": "stream",
     "text": [
      "tf_model/mnist/\n",
      "tf_model/mnist/.ipynb_checkpoints/\n",
      "tf_model/mnist/1.org/\n",
      "tf_model/mnist/1.org/saved_model.pb\n",
      "tf_model/mnist/1.org/variables/\n",
      "tf_model/mnist/1.org/variables/variables.index\n",
      "tf_model/mnist/1.org/variables/variables.data-00000-of-00001\n",
      "tf_model/mnist/1/\n",
      "tf_model/mnist/1/saved_model.pb\n",
      "tf_model/mnist/1/variables/\n",
      "tf_model/mnist/1/variables/variables.index\n",
      "tf_model/mnist/1/variables/variables.data-00000-of-00001\n",
      "tf_model/code/\n",
      "tf_model/code/inference.py\n"
     ]
    }
   ],
   "source": [
    "# サーバ側の推論用ソースコードを含めた形でSavedModel形式のモデルを圧縮\n",
    "!cd /home/ec2-user/SageMaker\n",
    "! tar zcvf model.tar.gz  tf_model/mnist tf_model/code"
   ]
  },
  {
   "cell_type": "code",
   "execution_count": 5,
   "id": "bfa88dec",
   "metadata": {},
   "outputs": [
    {
     "name": "stdout",
     "output_type": "stream",
     "text": [
      "done\n"
     ]
    }
   ],
   "source": [
    "# S3へモデルデータをアップロード\n",
    "sagemaker_session  = sagemaker.Session()\n",
    "model_data = sagemaker_session.upload_data(path='tf_model/model.tar.gz', key_prefix='model')\n",
    "print(\"done\")"
   ]
  },
  {
   "cell_type": "code",
   "execution_count": 7,
   "id": "49881c03",
   "metadata": {},
   "outputs": [
    {
     "name": "stderr",
     "output_type": "stream",
     "text": [
      "The class sagemaker.tensorflow.serving.Model has been renamed in sagemaker>=2.\n",
      "See: https://sagemaker.readthedocs.io/en/stable/v2.html for details.\n",
      "update_endpoint is a no-op in sagemaker>=2.\n",
      "See: https://sagemaker.readthedocs.io/en/stable/v2.html for details.\n"
     ]
    },
    {
     "name": "stdout",
     "output_type": "stream",
     "text": [
      "------!"
     ]
    }
   ],
   "source": [
    "# エンドポイントへモデルをデプロイ\n",
    "tensorflow_serving_mnist_model = Model(model_data=model_data,\n",
    "                                        role=role,\n",
    "                                        framework_version='1.15.5')\n",
    "predictor = tensorflow_serving_mnist_model.deploy(initial_instance_count=1,\n",
    "                                                    instance_type='ml.t2.medium',\n",
    "                                                    endpoint_name='mnist-endpoint')"
   ]
  },
  {
   "cell_type": "code",
   "execution_count": 9,
   "id": "4b5dc6b3",
   "metadata": {},
   "outputs": [
    {
     "name": "stderr",
     "output_type": "stream",
     "text": [
      "/home/ec2-user/anaconda3/envs/tensorflow_p36/lib/python3.6/site-packages/boto3/compat.py:88: PythonDeprecationWarning: Boto3 will no longer support Python 3.6 starting May 30, 2022. To continue receiving service updates, bug fixes, and security updates please upgrade to Python 3.7 or later. More information can be found here: https://aws.amazon.com/blogs/developer/python-support-policy-updates-for-aws-sdks-and-tools/\n",
      "  warnings.warn(warning, PythonDeprecationWarning)\n"
     ]
    }
   ],
   "source": [
    "# 推論の動作確認\n",
    "import pickle as pkl\n",
    "img = pkl.load(open(\"data/mnist.pickle\", \"rb\"))\n",
    "len(img[0][0]), len(img[0][1])\n",
    "from keras.datasets import mnist\n",
    "(x_train, y_train), (x_test, y_test) = mnist.load_data()\n",
    "if K.image_data_format() == 'channels_first':\n",
    "    x_train = x_train.reshape(x_train.shape[0], 1, 28, 28)\n",
    "else:\n",
    "    x_train = x_train.reshape(x_train.shape[0], 28, 28, 1)\n",
    "x_train = x_train.astype('float32')\n",
    "x_train /= 255\n",
    "client = boto3.client(\"sagemaker-runtime\")\n",
    "res = client.invoke_endpoint(EndpointName=predictor.endpoint_name,\n",
    "                            Body=json.dumps({'inputs':[x_train[0].tolist()]}),\n",
    "                            ContentType='application/json',\n",
    "                            Accept='application/json')\n",
    "result = json.loads(res['Body'].read())"
   ]
  },
  {
   "cell_type": "code",
   "execution_count": 10,
   "id": "e90bc0f7",
   "metadata": {},
   "outputs": [
    {
     "data": {
      "text/plain": [
       "{'outputs': [[1.31569811e-10,\n",
       "   4.00890077e-09,\n",
       "   7.53057269e-11,\n",
       "   0.0169722475,\n",
       "   1.24603617e-11,\n",
       "   0.983027697,\n",
       "   7.75427367e-09,\n",
       "   1.49165791e-10,\n",
       "   4.87038925e-08,\n",
       "   5.02105415e-08]]}"
      ]
     },
     "execution_count": 10,
     "metadata": {},
     "output_type": "execute_result"
    }
   ],
   "source": [
    "result"
   ]
  },
  {
   "cell_type": "code",
   "execution_count": null,
   "id": "4780f5e8",
   "metadata": {},
   "outputs": [],
   "source": []
  }
 ],
 "metadata": {
  "kernelspec": {
   "display_name": "conda_tensorflow_p36",
   "language": "python",
   "name": "conda_tensorflow_p36"
  },
  "language_info": {
   "codemirror_mode": {
    "name": "ipython",
    "version": 3
   },
   "file_extension": ".py",
   "mimetype": "text/x-python",
   "name": "python",
   "nbconvert_exporter": "python",
   "pygments_lexer": "ipython3",
   "version": "3.6.13"
  }
 },
 "nbformat": 4,
 "nbformat_minor": 5
}
